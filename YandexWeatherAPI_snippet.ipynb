{
  "nbformat": 4,
  "nbformat_minor": 0,
  "metadata": {
    "colab": {
      "provenance": [],
      "authorship_tag": "ABX9TyPv2QjvMKuW29dFxMC9ZT2N",
      "include_colab_link": true
    },
    "kernelspec": {
      "name": "python3",
      "display_name": "Python 3"
    },
    "language_info": {
      "name": "python"
    }
  },
  "cells": [
    {
      "cell_type": "markdown",
      "metadata": {
        "id": "view-in-github",
        "colab_type": "text"
      },
      "source": [
        "<a href=\"https://colab.research.google.com/github/Ansebi/Working_with_YandexWeatherAPI/blob/master/YandexWeatherAPI_snippet.ipynb\" target=\"_parent\"><img src=\"https://colab.research.google.com/assets/colab-badge.svg\" alt=\"Open In Colab\"/></a>"
      ]
    },
    {
      "cell_type": "markdown",
      "source": [
        "The test token for Yandex Weather API\n",
        "may be copied on this page: https://developer.tech.yandex.ru/services/18"
      ],
      "metadata": {
        "id": "ZvKuqtZ3jgXL"
      }
    },
    {
      "cell_type": "markdown",
      "source": [
        "#Imports"
      ],
      "metadata": {
        "id": "F4-xK0fIjswU"
      }
    },
    {
      "cell_type": "code",
      "source": [
        "import os\n",
        "import requests\n",
        "import urllib.parse"
      ],
      "metadata": {
        "id": "YkVtYwhBi4az"
      },
      "execution_count": 35,
      "outputs": []
    },
    {
      "cell_type": "markdown",
      "source": [
        "# Settings"
      ],
      "metadata": {
        "id": "krsk4vh7vRUp"
      }
    },
    {
      "cell_type": "markdown",
      "source": [
        "LANG options are:<br>\n",
        "`ru_RU`<br>\n",
        "`ru_UA`<br>\n",
        "`uk_UA`<br>\n",
        "`be_BY`<br>\n",
        "`kk_KZ`<br>\n",
        "`tr_TR`<br>\n",
        "`en_US`<br>\n",
        "\n"
      ],
      "metadata": {
        "id": "USrQGgUhvbeY"
      }
    },
    {
      "cell_type": "code",
      "source": [
        "ADDRESS = 'Skolkovo Innovation Center'\n",
        "LANG = 'en_EN'  # unnecessary, language_Region combination\n",
        "LIMIT = 7  # unnecessary, number of days in a forecast with maximum of 7 in the test tariff\n",
        "HOURS = 'true'  # unnecessary, include/exclude hourly data\n",
        "EXTRA = 'true'  # unnecessary, include/exclude precipitation details"
      ],
      "metadata": {
        "id": "xOZ8U5-JvWsI"
      },
      "execution_count": 46,
      "outputs": []
    },
    {
      "cell_type": "markdown",
      "source": [
        "# Loading a Forecast"
      ],
      "metadata": {
        "id": "Z2VwJhI9jvsK"
      }
    },
    {
      "cell_type": "code",
      "execution_count": 47,
      "metadata": {
        "colab": {
          "base_uri": "https://localhost:8080/"
        },
        "id": "gIA4IDLhisAL",
        "outputId": "5a1c5008-f358-4b46-9800-90b0109c2d68"
      },
      "outputs": [
        {
          "name": "stdout",
          "output_type": "stream",
          "text": [
            "Insert the Yandex Weather API token:45d0d579-5866-45af-b1bf-58a3140b2ac6\n"
          ]
        }
      ],
      "source": [
        "msg = 'Insert the Yandex Weather API token:'\n",
        "YandexWeatherAPI_TOKEN = input(msg)  # os.environ.get('YandexWeatherAPI_TOKEN')\n",
        "\n",
        "# get lat and lon:\n",
        "openstreetmap_url = 'https://nominatim.openstreetmap.org/search/'\n",
        "openstreetmap_url += urllib.parse.quote(ADDRESS) +'?format=json'\n",
        "openstreetmap_response = requests.get(openstreetmap_url).json()\n",
        "lat = float(openstreetmap_response[0]['lat'])\n",
        "lon = float(openstreetmap_response[0]['lon'])\n",
        "\n",
        "# compose the request URL:\n",
        "request_url = 'https://api.weather.yandex.ru/v2/forecast?'\n",
        "request_url += f'lat={lat}'\n",
        "request_url += f'&lon={lon}'\n",
        "request_url += f'&lang={LANG}'  # unnecessary, language_Region combination\n",
        "request_url += f'&limit={LIMIT}'  # unnecessary, number of days in a forecast with maximum of 7 in the test tariff\n",
        "request_url += f'&hours={HOURS}'  # unnecessary, include/exclude hourly data\n",
        "request_url += f'&extra={EXTRA}'  # unnecessary, include/exclude precipitation details\n",
        "\n",
        "yandex_response = requests.get(\n",
        "    request_url,\n",
        "    headers={'X-Yandex-API-Key': YandexWeatherAPI_TOKEN})\n",
        "\n",
        "weather_dict = yandex_response.json()"
      ]
    },
    {
      "cell_type": "markdown",
      "source": [
        "# Working with a Forecast Dictionary (JSON)"
      ],
      "metadata": {
        "id": "-YMQ4-Tpj0dV"
      }
    },
    {
      "cell_type": "code",
      "source": [
        "weather_dict.keys()"
      ],
      "metadata": {
        "colab": {
          "base_uri": "https://localhost:8080/"
        },
        "id": "VRwVdWTCj6yk",
        "outputId": "88ffecff-92c4-4c43-df32-2e549dc18e32"
      },
      "execution_count": 28,
      "outputs": [
        {
          "output_type": "execute_result",
          "data": {
            "text/plain": [
              "dict_keys(['now', 'now_dt', 'info', 'geo_object', 'yesterday', 'fact', 'forecasts'])"
            ]
          },
          "metadata": {},
          "execution_count": 28
        }
      ]
    },
    {
      "cell_type": "code",
      "source": [
        "weather_dict['forecasts'][1]['parts']['day']['temp_avg']"
      ],
      "metadata": {
        "colab": {
          "base_uri": "https://localhost:8080/"
        },
        "id": "-6-hJDlKmQa5",
        "outputId": "1a664894-fb1e-4dc7-b190-17e7e2c46a63"
      },
      "execution_count": 44,
      "outputs": [
        {
          "output_type": "execute_result",
          "data": {
            "text/plain": [
              "5"
            ]
          },
          "metadata": {},
          "execution_count": 44
        }
      ]
    }
  ]
}